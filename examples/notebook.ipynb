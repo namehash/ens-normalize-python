{
  "cells": [
    {
      "attachments": {},
      "cell_type": "markdown",
      "metadata": {},
      "source": [
        "# ENS Normalize Python"
      ]
    },
    {
      "attachments": {},
      "cell_type": "markdown",
      "metadata": {},
      "source": [
        "## Install"
      ]
    },
    {
      "cell_type": "code",
      "execution_count": 1,
      "metadata": {
        "colab": {
          "base_uri": "https://localhost:8080/"
        },
        "id": "d51I_f3vfbg6",
        "outputId": "ae30bae8-7536-417a-f7fa-cef49e824b32"
      },
      "outputs": [
        {
          "name": "stdout",
          "output_type": "stream",
          "text": [
            "Looking in indexes: https://pypi.org/simple, https://us-python.pkg.dev/colab-wheels/public/simple/\n",
            "Requirement already satisfied: ens-normalize in /usr/local/lib/python3.10/dist-packages (3.0.0)\n",
            "Requirement already satisfied: pyunormalize<16.0.0,>=15.0.0 in /usr/local/lib/python3.10/dist-packages (from ens-normalize) (15.0.0)\n"
          ]
        }
      ],
      "source": [
        "%pip install ens-normalize"
      ]
    },
    {
      "attachments": {},
      "cell_type": "markdown",
      "metadata": {
        "id": "vuhAF1tZfnoL"
      },
      "source": [
        "## Normalize an ENS name"
      ]
    },
    {
      "cell_type": "code",
      "execution_count": 2,
      "metadata": {
        "colab": {
          "base_uri": "https://localhost:8080/",
          "height": 35
        },
        "id": "51HZCqB6fhrY",
        "outputId": "c706a1f5-3f77-4837-c863-14130d828916"
      },
      "outputs": [
        {
          "data": {
            "text/plain": [
              "'nick.eth'"
            ]
          },
          "execution_count": 2,
          "metadata": {},
          "output_type": "execute_result"
        }
      ],
      "source": [
        "from ens_normalize import ens_normalize\n",
        "# str -> str\n",
        "# raises DisallowedSequence for disallowed names\n",
        "# output is namehash ready\n",
        "ens_normalize('Nick.ETH')"
      ]
    },
    {
      "attachments": {},
      "cell_type": "markdown",
      "metadata": {},
      "source": [
        "note: `ens_normalize` does not enforce any constraints that might be applied by a particular registrar. For example, the registrar for names that are a subname of '.eth' enforces a 3-character minimum and this constraint is not enforced by `ens_normalize`."
      ]
    },
    {
      "attachments": {},
      "cell_type": "markdown",
      "metadata": {
        "id": "oFfA68OIftCS"
      },
      "source": [
        "## Inspect issues with disallowed names"
      ]
    },
    {
      "cell_type": "code",
      "execution_count": 3,
      "metadata": {
        "colab": {
          "base_uri": "https://localhost:8080/"
        },
        "id": "6L1zuXskfvzo",
        "outputId": "7e233eae-4206-45d0-82ca-80a567bc3913"
      },
      "outputs": [
        {
          "name": "stdout",
          "output_type": "stream",
          "text": [
            "INVISIBLE\n",
            "Contains a disallowed invisible character\n",
            "This invisible character is disallowed\n",
            "2\n",
            "'\\u200d'\n",
            "''\n"
          ]
        }
      ],
      "source": [
        "from ens_normalize import DisallowedSequence, CurableSequence\n",
        "try:\n",
        "    # added a hidden \"zero width joiner\" character\n",
        "    ens_normalize('Ni‍ck.ETH')\n",
        "# Catch the first disallowed sequence (the name we are attempting to normalize could have more than one).\n",
        "except DisallowedSequence as e:\n",
        "    # error code\n",
        "    print(e.code)\n",
        "    # INVISIBLE\n",
        "\n",
        "    # a message about why the sequence is disallowed\n",
        "    print(e.general_info)\n",
        "    # Contains a disallowed invisible character\n",
        "\n",
        "    if isinstance(e, CurableSequence):\n",
        "        # information about the curable sequence\n",
        "        print(e.sequence_info)\n",
        "        # 'This invisible character is disallowed'\n",
        "\n",
        "        # starting index of the disallowed sequence in the input string\n",
        "        # (counting in Unicode code points)\n",
        "        print(e.index)\n",
        "        # 2\n",
        "\n",
        "        # the disallowed sequence\n",
        "        # (use repr() to \"see\" the invisible character)\n",
        "        print(repr(e.sequence))\n",
        "        # '\\u200d'\n",
        "\n",
        "        # a normalization suggestion for fixing the disallowed sequence (there might be more disallowed sequences)\n",
        "        print(repr(e.suggested))\n",
        "        # ''\n",
        "        # replacing the disallowed sequence with this suggestion (an empty string) represents the idea that the disallowed sequence is suggested to be removed\n",
        "\n",
        "        # You may be able to fix this disallowed sequence by replacing e.sequence with e.suggested in the input string.\n",
        "        # Fields index, sequence_info, sequence, and suggested are available only for curable errors.\n",
        "        # Other disallowed sequences might be found even after applying this suggestion."
      ]
    },
    {
      "attachments": {},
      "cell_type": "markdown",
      "metadata": {},
      "source": [
        "## Cure names"
      ]
    },
    {
      "attachments": {},
      "cell_type": "markdown",
      "metadata": {
        "id": "7dlke4uyfzaU"
      },
      "source": [
        "You can attempt conversion of disallowed names into normalized names using `ens_cure`. This algorithm can “cure” many normalization errors that would fail `ens_normalize`. This can be useful in some situations. For example, if a user input fails `ens_normalize`, a user could be prompted with a more helpful error message such as: “Did you mean curedname.eth?”.\n",
        "\n",
        "Some names are not curable. For example, if it is challenging to provide a specific normalization suggestion that might be needed to replace a disallowed sequence.\n",
        "\n",
        "Note: This function is *NOT* a part of the ENS Normalization Standard."
      ]
    },
    {
      "cell_type": "code",
      "execution_count": 4,
      "metadata": {
        "colab": {
          "base_uri": "https://localhost:8080/",
          "height": 35
        },
        "id": "mi488_O9f29d",
        "outputId": "d18ef1cf-8aed-4359-fbf0-af91131d7e18"
      },
      "outputs": [
        {
          "data": {
            "text/plain": [
              "'nick.eth'"
            ]
          },
          "execution_count": 4,
          "metadata": {},
          "output_type": "execute_result"
        }
      ],
      "source": [
        "from ens_normalize import ens_cure\n",
        "# input name with disallowed zero width joiner and '?'\n",
        "# str -> str\n",
        "ens_cure('Ni‍ck?.ETH')\n",
        "# ZWJ and '?' are removed, no error is raised"
      ]
    },
    {
      "cell_type": "code",
      "execution_count": 5,
      "metadata": {
        "colab": {
          "base_uri": "https://localhost:8080/"
        },
        "id": "osBkkCPkyJ1-",
        "outputId": "4779e599-5fa9-4575-e967-0bbe1e9f3e93"
      },
      "outputs": [
        {
          "name": "stdout",
          "output_type": "stream",
          "text": [
            "DisallowedSequence(code=\"EMPTY_NAME\") No valid characters in name\n"
          ]
        }
      ],
      "source": [
        "# note: might still raise DisallowedSequence for certain names, which cannot be cured, e.g.\n",
        "try:\n",
        "    ens_cure('?')\n",
        "except DisallowedSequence as e:\n",
        "    print(repr(e), e)\n",
        "# reason: '?' would have to be removed which would result in an empty name"
      ]
    },
    {
      "cell_type": "code",
      "execution_count": 6,
      "metadata": {
        "colab": {
          "base_uri": "https://localhost:8080/"
        },
        "id": "aMeuN2ljgrn_",
        "outputId": "5877b318-63c0-4db6-cfcd-3334a34bb164"
      },
      "outputs": [
        {
          "name": "stdout",
          "output_type": "stream",
          "text": [
            "DisallowedSequence(code=\"CONF_WHOLE\") Contains visually confusing characters from Cyrillic and Latin scripts\n"
          ]
        }
      ],
      "source": [
        "try:\n",
        "    ens_cure('0χх0.eth')\n",
        "except DisallowedSequence as e:\n",
        "    print(repr(e), e)\n",
        "# reason: it is not clear which character should be removed ('χ' or 'х')"
      ]
    },
    {
      "attachments": {},
      "cell_type": "markdown",
      "metadata": {
        "id": "9whq4Ji1f4vt"
      },
      "source": [
        "## Get a beautiful name that is optimized for display"
      ]
    },
    {
      "cell_type": "code",
      "execution_count": 7,
      "metadata": {
        "colab": {
          "base_uri": "https://localhost:8080/",
          "height": 35
        },
        "id": "hoc97oXZf6FR",
        "outputId": "9ea28f9b-f095-4b4d-d76f-fe7f05eb67ab"
      },
      "outputs": [
        {
          "data": {
            "text/plain": [
              "'1️⃣2️⃣.eth'"
            ]
          },
          "execution_count": 7,
          "metadata": {},
          "output_type": "execute_result"
        }
      ],
      "source": [
        "from ens_normalize import ens_beautify\n",
        "# works like ens_normalize()\n",
        "# output ready for display\n",
        "ens_beautify('1⃣2⃣.eth')"
      ]
    },
    {
      "attachments": {},
      "cell_type": "markdown",
      "metadata": {},
      "source": [
        "note: normalization is unchanged:\\\n",
        "`ens_normalize(ens_beautify(x)) == ens_normalize(x)`"
      ]
    },
    {
      "attachments": {},
      "cell_type": "markdown",
      "metadata": {},
      "source": [
        "note: in addition to beautifying emojis with fully-qualified emoji, ens_beautify converts the character 'ξ' (Greek lowercase 'Xi') to 'Ξ' (Greek uppercase 'Xi', a.k.a. the Ethereum symbol) in labels that contain no other Greek characters"
      ]
    },
    {
      "attachments": {},
      "cell_type": "markdown",
      "metadata": {
        "id": "2BRQwEP1f8Bt"
      },
      "source": [
        "## Generate detailed name analysis"
      ]
    },
    {
      "cell_type": "code",
      "execution_count": 8,
      "metadata": {
        "colab": {
          "base_uri": "https://localhost:8080/"
        },
        "id": "YpbOI4Twf8Kj",
        "outputId": "8b33b1cc-19fd-471e-b8df-37867cd33ba9"
      },
      "outputs": [
        {
          "data": {
            "text/plain": [
              "[TokenMapped(cp=78, cps=[110], type='mapped'),\n",
              " TokenNFC(input=[97, 768], cps=[224], type='nfc'),\n",
              " TokenValid(cps=[109, 101], type='valid'),\n",
              " TokenDisallowed(cp=8205, type='disallowed'),\n",
              " TokenEmoji(emoji=[129497, 8205, 9794, 65039], input=[129497, 8205, 9794], cps=[129497, 8205, 9794], type='emoji'),\n",
              " TokenStop(cp=46, type='stop'),\n",
              " TokenValid(cps=[101, 116, 104], type='valid')]"
            ]
          },
          "execution_count": 8,
          "metadata": {},
          "output_type": "execute_result"
        }
      ],
      "source": [
        "from ens_normalize import ens_tokenize\n",
        "# str -> List[Token]\n",
        "# always returns a tokenization of the input\n",
        "ens_tokenize('Nàme‍🧙‍♂.eth')"
      ]
    },
    {
      "attachments": {},
      "cell_type": "markdown",
      "metadata": {
        "id": "dJbyb5cwgBtZ"
      },
      "source": [
        "## Inspect changes"
      ]
    },
    {
      "attachments": {},
      "cell_type": "markdown",
      "metadata": {},
      "source": [
        "For a normalizable name, you can find out how the input is transformed during normalization:"
      ]
    },
    {
      "cell_type": "code",
      "execution_count": 9,
      "metadata": {
        "colab": {
          "base_uri": "https://localhost:8080/"
        },
        "id": "RZgdaFDigBzM",
        "outputId": "1e798e2c-4657-4ce7-8c0a-95cc9f2e8bd0"
      },
      "outputs": [
        {
          "data": {
            "text/plain": [
              "[NormalizableSequence(code=\"MAPPED\", index=0, sequence=\"N\", suggested=\"n\"),\n",
              " NormalizableSequence(code=\"FE0F\", index=4, sequence=\"🧙‍♂️\", suggested=\"🧙‍♂\")]"
            ]
          },
          "execution_count": 9,
          "metadata": {},
          "output_type": "execute_result"
        }
      ],
      "source": [
        "from ens_normalize import ens_normalizations\n",
        "# Returns a list of transformations (unnormalized sequence -> normalization suggestion)\n",
        "# that have been applied to the input during normalization.\n",
        "# NormalizableSequence has the same fields as CurableSequence:\n",
        "# - code\n",
        "# - general_info\n",
        "# - sequence_info\n",
        "# - index\n",
        "# - sequence\n",
        "# - suggested\n",
        "ens_normalizations('Nàme🧙‍♂️.eth')"
      ]
    },
    {
      "attachments": {},
      "cell_type": "markdown",
      "metadata": {
        "id": "neAY8cDcgF9y"
      },
      "source": [
        "## An example normalization workflow"
      ]
    },
    {
      "cell_type": "code",
      "execution_count": 10,
      "metadata": {
        "colab": {
          "base_uri": "https://localhost:8080/"
        },
        "id": "rEEaMnyogGGK",
        "outputId": "3a73fbdc-c9db-4686-d11c-9e2b79497739"
      },
      "outputs": [
        {
          "name": "stdout",
          "output_type": "stream",
          "text": [
            "Normalized: nàme🧙‍♂.eth\n",
            "NormalizableSequence(code=\"MAPPED\", index=0, sequence=\"N\", suggested=\"n\")\n",
            "NormalizableSequence(code=\"FE0F\", index=4, sequence=\"🧙‍♂️\", suggested=\"🧙‍♂\")\n"
          ]
        }
      ],
      "source": [
        "name = 'Nàme🧙‍♂️.eth'\n",
        "try:\n",
        "    normalized = ens_normalize(name)\n",
        "    print('Normalized:', normalized)\n",
        "    # Normalized: nàme🧙‍♂.eth\n",
        "    # Success!\n",
        "\n",
        "     # was the input transformed by the normalization process?\n",
        "    if name != normalized:\n",
        "        # Let's check how the input was changed:\n",
        "        for t in ens_normalizations(name):\n",
        "            print(repr(t)) # use repr() to print more information\n",
        "        # NormalizableSequence(code=\"MAPPED\", index=0, sequence=\"N\", suggested=\"n\")\n",
        "        # NormalizableSequence(code=\"FE0F\", index=4, sequence=\"🧙‍♂️\", suggested=\"🧙‍♂\")\n",
        "        #                                     invisible character inside emoji ^\n",
        "except DisallowedSequence as e:\n",
        "    # Even if the name is invalid according to the ENS Normalization Standard,\n",
        "    # we can try to automatically cure disallowed sequences.\n",
        "    try:\n",
        "        print('Cured:', ens_cure(name))\n",
        "    except DisallowedSequence as e:\n",
        "        # The name cannot be automatically cured.\n",
        "        print('Disallowed name error:', e)"
      ]
    },
    {
      "attachments": {},
      "cell_type": "markdown",
      "metadata": {
        "id": "cY0Afw8HgKAN"
      },
      "source": [
        "You can run many of the above functions at once. It is faster than running all of them sequentially."
      ]
    },
    {
      "cell_type": "code",
      "execution_count": 11,
      "metadata": {
        "colab": {
          "base_uri": "https://localhost:8080/"
        },
        "id": "PhK7bmhAftVp",
        "outputId": "51a53ae1-3483-4bf9-a945-6044d0d478e1"
      },
      "outputs": [],
      "source": [
        "from ens_normalize import ens_process\n",
        "# use only the do_* flags you need\n",
        "ret = ens_process(\"Nàme🧙‍♂️1⃣.eth\",\n",
        "    do_normalize=True,\n",
        "    do_beautify=True,\n",
        "    do_tokenize=True,\n",
        "    do_normalizations=True,\n",
        "    do_cure=True,\n",
        ")"
      ]
    },
    {
      "cell_type": "code",
      "execution_count": 12,
      "metadata": {},
      "outputs": [
        {
          "data": {
            "text/plain": [
              "'nàme🧙\\u200d♂1⃣.eth'"
            ]
          },
          "execution_count": 12,
          "metadata": {},
          "output_type": "execute_result"
        }
      ],
      "source": [
        "ret.normalized"
      ]
    },
    {
      "cell_type": "code",
      "execution_count": 13,
      "metadata": {},
      "outputs": [
        {
          "data": {
            "text/plain": [
              "'nàme🧙\\u200d♂️1️⃣.eth'"
            ]
          },
          "execution_count": 13,
          "metadata": {},
          "output_type": "execute_result"
        }
      ],
      "source": [
        "ret.beautified"
      ]
    },
    {
      "cell_type": "code",
      "execution_count": 14,
      "metadata": {},
      "outputs": [
        {
          "data": {
            "text/plain": [
              "[TokenMapped(cp=78, cps=[110], type='mapped'),\n",
              " TokenValid(cps=[224, 109, 101], type='valid'),\n",
              " TokenEmoji(emoji=[129497, 8205, 9794, 65039], input=[129497, 8205, 9794, 65039], cps=[129497, 8205, 9794], type='emoji'),\n",
              " TokenEmoji(emoji=[49, 65039, 8419], input=[49, 8419], cps=[49, 8419], type='emoji'),\n",
              " TokenStop(cp=46, type='stop'),\n",
              " TokenValid(cps=[101, 116, 104], type='valid')]"
            ]
          },
          "execution_count": 14,
          "metadata": {},
          "output_type": "execute_result"
        }
      ],
      "source": [
        "ret.tokens"
      ]
    },
    {
      "cell_type": "code",
      "execution_count": 15,
      "metadata": {},
      "outputs": [
        {
          "data": {
            "text/plain": [
              "'nàme🧙\\u200d♂1⃣.eth'"
            ]
          },
          "execution_count": 15,
          "metadata": {},
          "output_type": "execute_result"
        }
      ],
      "source": [
        "ret.cured"
      ]
    },
    {
      "cell_type": "code",
      "execution_count": 16,
      "metadata": {},
      "outputs": [
        {
          "data": {
            "text/plain": [
              "[]"
            ]
          },
          "execution_count": 16,
          "metadata": {},
          "output_type": "execute_result"
        }
      ],
      "source": [
        "# This is the list of cures that were applied to the input (in this case, none).\n",
        "ret.cures"
      ]
    },
    {
      "cell_type": "code",
      "execution_count": 17,
      "metadata": {},
      "outputs": [
        {
          "data": {
            "text/plain": [
              "True"
            ]
          },
          "execution_count": 17,
          "metadata": {},
          "output_type": "execute_result"
        }
      ],
      "source": [
        "# This is the exception raised by ens_normalize().\n",
        "# It is a DisallowedSequence or CurableSequence if the error is curable.\n",
        "ret.error is None"
      ]
    },
    {
      "cell_type": "code",
      "execution_count": 18,
      "metadata": {},
      "outputs": [
        {
          "data": {
            "text/plain": [
              "[NormalizableSequence(code=\"MAPPED\", index=0, sequence=\"N\", suggested=\"n\"),\n",
              " NormalizableSequence(code=\"FE0F\", index=4, sequence=\"🧙‍♂️\", suggested=\"🧙‍♂\")]"
            ]
          },
          "execution_count": 18,
          "metadata": {},
          "output_type": "execute_result"
        }
      ],
      "source": [
        "ret.normalizations"
      ]
    }
  ],
  "metadata": {
    "colab": {
      "provenance": [],
      "toc_visible": true
    },
    "kernelspec": {
      "display_name": "Python 3",
      "name": "python3"
    },
    "language_info": {
      "codemirror_mode": {
        "name": "ipython",
        "version": 3
      },
      "file_extension": ".py",
      "mimetype": "text/x-python",
      "name": "python",
      "nbconvert_exporter": "python",
      "pygments_lexer": "ipython3",
      "version": "3.10.11"
    }
  },
  "nbformat": 4,
  "nbformat_minor": 0
}
