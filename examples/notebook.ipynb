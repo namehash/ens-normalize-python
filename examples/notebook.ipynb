{
  "cells": [
    {
      "cell_type": "code",
      "execution_count": null,
      "metadata": {
        "colab": {
          "base_uri": "https://localhost:8080/"
        },
        "id": "d51I_f3vfbg6",
        "outputId": "ae30bae8-7536-417a-f7fa-cef49e824b32"
      },
      "outputs": [
        {
          "name": "stdout",
          "output_type": "stream",
          "text": [
            "Looking in indexes: https://pypi.org/simple, https://us-python.pkg.dev/colab-wheels/public/simple/\n",
            "Requirement already satisfied: ens-normalize in /usr/local/lib/python3.10/dist-packages (2.0.1)\n",
            "Requirement already satisfied: pyunormalize<16.0.0,>=15.0.0 in /usr/local/lib/python3.10/dist-packages (from ens-normalize) (15.0.0)\n"
          ]
        }
      ],
      "source": [
        "%pip install ens-normalize"
      ]
    },
    {
      "attachments": {},
      "cell_type": "markdown",
      "metadata": {
        "id": "vuhAF1tZfnoL"
      },
      "source": [
        "Normalize an ENS name:"
      ]
    },
    {
      "cell_type": "code",
      "execution_count": null,
      "metadata": {
        "colab": {
          "base_uri": "https://localhost:8080/",
          "height": 35
        },
        "id": "51HZCqB6fhrY",
        "outputId": "c706a1f5-3f77-4837-c863-14130d828916"
      },
      "outputs": [
        {
          "data": {
            "application/vnd.google.colaboratory.intrinsic+json": {
              "type": "string"
            },
            "text/plain": [
              "'nick.eth'"
            ]
          },
          "execution_count": 2,
          "metadata": {},
          "output_type": "execute_result"
        }
      ],
      "source": [
        "from ens_normalize import ens_normalize\n",
        "# str -> str\n",
        "# raises DisallowedNameError for disallowed names\n",
        "# output ready for namehash\n",
        "ens_normalize('Nick.ETH')\n",
        "# 'nick.eth'\n",
        "# note: does not enforce .eth TLD 3-character minimum"
      ]
    },
    {
      "attachments": {},
      "cell_type": "markdown",
      "metadata": {
        "id": "oFfA68OIftCS"
      },
      "source": [
        "Inspect issues with names that cannot be normalized:"
      ]
    },
    {
      "cell_type": "code",
      "execution_count": null,
      "metadata": {
        "colab": {
          "base_uri": "https://localhost:8080/"
        },
        "id": "6L1zuXskfvzo",
        "outputId": "7e233eae-4206-45d0-82ca-80a567bc3913"
      },
      "outputs": [
        {
          "name": "stdout",
          "output_type": "stream",
          "text": [
            "INVISIBLE\n",
            "Contains a disallowed invisible character\n",
            "This invisible character is disallowed\n",
            "2\n",
            "'\\u200d'\n",
            "''\n"
          ]
        }
      ],
      "source": [
        "from ens_normalize import DisallowedNameError, CurableError\n",
        "# added a hidden \"zero width joiner\" character\n",
        "try:\n",
        "    ens_normalize('Ni‍ck.ETH')\n",
        "# Catch the first normalization error (the name we are attempting to normalize could have more than one error).\n",
        "except DisallowedNameError as e:\n",
        "    # error code\n",
        "    print(e.code)\n",
        "    # INVISIBLE\n",
        "\n",
        "    # a message about why the input is disallowed\n",
        "    print(e.general_info)\n",
        "    # Contains a disallowed invisible character\n",
        "\n",
        "    if isinstance(e, CurableError):\n",
        "        # information about the disallowed substring\n",
        "        print(e.disallowed_sequence_info)\n",
        "        # 'This invisible character is disallowed'\n",
        "\n",
        "        # starting index of the disallowed substring in the input string\n",
        "        # (counting in Unicode code points)\n",
        "        print(e.index)\n",
        "        # 2\n",
        "\n",
        "        # the disallowed substring\n",
        "        # (use repr() to \"see\" the invisible character)\n",
        "        print(repr(e.disallowed))\n",
        "        # '\\u200d'\n",
        "\n",
        "        # a suggestion for fixing the first error (there might be more errors)\n",
        "        print(repr(e.suggested))\n",
        "        # ''\n",
        "        # replacing the disallowed substring with this empty string represents that the disallowed substring should be removed\n",
        "\n",
        "        # You may be able to fix this error by replacing e.disallowed\n",
        "        # with e.suggested in the input string.\n",
        "        # Fields index, disallowed_sequence_info, disallowed, and suggested are not None only for fixable errors.\n",
        "        # Other errors might be found even after applying this suggestion."
      ]
    },
    {
      "attachments": {},
      "cell_type": "markdown",
      "metadata": {
        "id": "7dlke4uyfzaU"
      },
      "source": [
        "You can attempt conversion of disallowed names into normalized names:"
      ]
    },
    {
      "cell_type": "code",
      "execution_count": null,
      "metadata": {
        "colab": {
          "base_uri": "https://localhost:8080/",
          "height": 35
        },
        "id": "mi488_O9f29d",
        "outputId": "d18ef1cf-8aed-4359-fbf0-af91131d7e18"
      },
      "outputs": [
        {
          "data": {
            "application/vnd.google.colaboratory.intrinsic+json": {
              "type": "string"
            },
            "text/plain": [
              "'nick.eth'"
            ]
          },
          "execution_count": 4,
          "metadata": {},
          "output_type": "execute_result"
        }
      ],
      "source": [
        "from ens_normalize import ens_cure\n",
        "# input name with disallowed zero width joiner and '?'\n",
        "# str -> str\n",
        "ens_cure('Ni‍ck?.ETH')\n",
        "# 'nick.eth'\n",
        "# ZWJ and '?' are removed, no error is raised\n",
        "# note: this function is not a part of the ENS Normalization Standard"
      ]
    },
    {
      "cell_type": "code",
      "execution_count": null,
      "metadata": {
        "colab": {
          "base_uri": "https://localhost:8080/"
        },
        "id": "osBkkCPkyJ1-",
        "outputId": "4779e599-5fa9-4575-e967-0bbe1e9f3e93"
      },
      "outputs": [
        {
          "name": "stdout",
          "output_type": "stream",
          "text": [
            "DisallowedNameError: The name is empty\n"
          ]
        }
      ],
      "source": [
        "# note: might still raise DisallowedNameError for certain names, which cannot be cured, e.g.\n",
        "try:\n",
        "  ens_cure('?')\n",
        "except DisallowedNameError as e:\n",
        "  print(f'{type(e).__name__}: {e}')\n",
        "# DisallowedNameError: The name is empty"
      ]
    },
    {
      "cell_type": "code",
      "execution_count": null,
      "metadata": {
        "colab": {
          "base_uri": "https://localhost:8080/"
        },
        "id": "aMeuN2ljgrn_",
        "outputId": "5877b318-63c0-4db6-cfcd-3334a34bb164"
      },
      "outputs": [
        {
          "name": "stdout",
          "output_type": "stream",
          "text": [
            "DisallowedNameError: Contains visually confusing characters from Cyrillic and Latin scripts\n"
          ]
        }
      ],
      "source": [
        "try:\n",
        "  ens_cure('0χх0.eth')\n",
        "except DisallowedNameError as e:\n",
        "  print(f'{type(e).__name__}: {e}')\n",
        "# DisallowedNameError: Contains visually confusing characters that are disallowed"
      ]
    },
    {
      "attachments": {},
      "cell_type": "markdown",
      "metadata": {
        "id": "9whq4Ji1f4vt"
      },
      "source": [
        "Format names with fully-qualified emoji:"
      ]
    },
    {
      "cell_type": "code",
      "execution_count": null,
      "metadata": {
        "colab": {
          "base_uri": "https://localhost:8080/",
          "height": 35
        },
        "id": "hoc97oXZf6FR",
        "outputId": "9ea28f9b-f095-4b4d-d76f-fe7f05eb67ab"
      },
      "outputs": [
        {
          "data": {
            "application/vnd.google.colaboratory.intrinsic+json": {
              "type": "string"
            },
            "text/plain": [
              "'1️⃣2️⃣.eth'"
            ]
          },
          "execution_count": 7,
          "metadata": {},
          "output_type": "execute_result"
        }
      ],
      "source": [
        "from ens_normalize import ens_beautify\n",
        "# works like ens_normalize()\n",
        "# output ready for display\n",
        "ens_beautify('1⃣2⃣.eth')\n",
        "# '1️⃣2️⃣.eth'\n",
        "\n",
        "# note: normalization is unchanged:\n",
        "# ens_normalize(ens_beautify(x)) == ens_normalize(x)\n",
        "# note: in addition to beautifying emojis, ens_beautify converts the character 'ξ' (Greek lowercase 'Xi') to 'Ξ' (Greek uppercase 'Xi', a.k.a. the Ethereum symbol) in labels that contain no other Greek characters"
      ]
    },
    {
      "attachments": {},
      "cell_type": "markdown",
      "metadata": {
        "id": "2BRQwEP1f8Bt"
      },
      "source": [
        "Generate detailed label analysis:"
      ]
    },
    {
      "cell_type": "code",
      "execution_count": null,
      "metadata": {
        "colab": {
          "base_uri": "https://localhost:8080/"
        },
        "id": "YpbOI4Twf8Kj",
        "outputId": "8b33b1cc-19fd-471e-b8df-37867cd33ba9"
      },
      "outputs": [
        {
          "data": {
            "text/plain": [
              "[TokenMapped(cp=78, cps=[110], type='mapped'),\n",
              " TokenNFC(input=[97, 768], cps=[224], type='nfc'),\n",
              " TokenValid(cps=[109, 101], type='valid'),\n",
              " TokenDisallowed(cp=8205, type='disallowed'),\n",
              " TokenEmoji(emoji=[129497, 8205, 9794, 65039], input=[129497, 8205, 9794], cps=[129497, 8205, 9794], type='emoji'),\n",
              " TokenStop(cp=46, type='stop'),\n",
              " TokenValid(cps=[101, 116, 104], type='valid')]"
            ]
          },
          "execution_count": 8,
          "metadata": {},
          "output_type": "execute_result"
        }
      ],
      "source": [
        "from ens_normalize import ens_tokenize\n",
        "# str -> List[Token]\n",
        "# always returns a tokenization of the input\n",
        "ens_tokenize('Nàme‍🧙‍♂.eth')\n",
        "# [TokenMapped(cp=78, cps=[110], type='mapped'),\n",
        "#  TokenNFC(input=[97, 768], cps=[224], type='nfc'),\n",
        "#  TokenValid(cps=[109, 101], type='valid'),\n",
        "#  TokenDisallowed(cp=8205, type='disallowed'),\n",
        "#  TokenEmoji(emoji=[129497, 8205, 9794, 65039],\n",
        "#             input=[129497, 8205, 9794],\n",
        "#             cps=[129497, 8205, 9794],\n",
        "#             type='emoji'),\n",
        "#  TokenStop(cp=46, type='stop'),\n",
        "#  TokenValid(cps=[101, 116, 104], type='valid')]"
      ]
    },
    {
      "attachments": {},
      "cell_type": "markdown",
      "metadata": {
        "id": "dJbyb5cwgBtZ"
      },
      "source": [
        "For a normalizable name, you can find out how the input is transformed during normalization:"
      ]
    },
    {
      "cell_type": "code",
      "execution_count": null,
      "metadata": {
        "colab": {
          "base_uri": "https://localhost:8080/"
        },
        "id": "RZgdaFDigBzM",
        "outputId": "1e798e2c-4657-4ce7-8c0a-95cc9f2e8bd0"
      },
      "outputs": [
        {
          "data": {
            "text/plain": [
              "[NormalizationTransformation(code=\"MAPPED\", index=0, disallowed=\"N\", suggested=\"n\"),\n",
              " NormalizationTransformation(code=\"FE0F\", index=4, disallowed=\"🧙‍♂️\", suggested=\"🧙‍♂\")]"
            ]
          },
          "execution_count": 9,
          "metadata": {},
          "output_type": "execute_result"
        }
      ],
      "source": [
        "from ens_normalize import ens_transformations\n",
        "# Returns a list of transformations (substring -> string)\n",
        "# that have been applied to the input during normalization.\n",
        "# NormalizationTransformation has the same fields as CurableError:\n",
        "# - code\n",
        "# - general_info\n",
        "# - disallowed_sequence_info\n",
        "# - index\n",
        "# - disallowed\n",
        "# - suggested\n",
        "ens_transformations('Nàme🧙‍♂️.eth')\n",
        "# [NormalizationTransformation(code=\"MAPPED\", index=0, disallowed=\"N\", suggested=\"n\"),\n",
        "#  NormalizationTransformation(code=\"FE0F\", index=4, disallowed=\"🧙‍♂️\", suggested=\"🧙‍♂\")]"
      ]
    },
    {
      "attachments": {},
      "cell_type": "markdown",
      "metadata": {
        "id": "neAY8cDcgF9y"
      },
      "source": [
        "An example normalization workflow:"
      ]
    },
    {
      "cell_type": "code",
      "execution_count": null,
      "metadata": {
        "colab": {
          "base_uri": "https://localhost:8080/"
        },
        "id": "rEEaMnyogGGK",
        "outputId": "3a73fbdc-c9db-4686-d11c-9e2b79497739"
      },
      "outputs": [
        {
          "name": "stdout",
          "output_type": "stream",
          "text": [
            "Normalized: nàme🧙‍♂.eth\n",
            "NormalizationTransformation(code=\"MAPPED\", index=0, disallowed=\"N\", suggested=\"n\")\n",
            "NormalizationTransformation(code=\"FE0F\", index=4, disallowed=\"🧙‍♂️\", suggested=\"🧙‍♂\")\n"
          ]
        }
      ],
      "source": [
        "name = 'Nàme🧙‍♂️.eth'\n",
        "try:\n",
        "    normalized = ens_normalize(name)\n",
        "    print('Normalized:', normalized)\n",
        "    # Normalized: nàme🧙‍♂.eth\n",
        "    # Success!\n",
        "\n",
        "     # was the input transformed by the normalization process?\n",
        "    if name != normalized:\n",
        "        # Let's check how the input was changed:\n",
        "        for t in ens_transformations(name):\n",
        "            print(repr(t)) # use repr() to print more information\n",
        "        # NormalizationTransformation(code=\"MAPPED\", index=0, disallowed=\"N\", suggested=\"n\")\n",
        "        # NormalizationTransformation(code=\"FE0F\", index=4, disallowed=\"🧙‍♂️\", suggested=\"🧙‍♂\")\n",
        "        #                              invisible character inside emoji ^\n",
        "except DisallowedNameError as e:\n",
        "    # Even if the name is invalid according to the ENS Normalization Standard,\n",
        "    # we can try to automatically remove disallowed characters.\n",
        "    try:\n",
        "        print(ens_cure(name))\n",
        "    except DisallowedNameError as e:\n",
        "        # The name cannot be automatically fixed.\n",
        "        print('Fatal error:', e)"
      ]
    },
    {
      "attachments": {},
      "cell_type": "markdown",
      "metadata": {
        "id": "cY0Afw8HgKAN"
      },
      "source": [
        "You can run many of the above functions at once. It is faster than running all of them sequentially."
      ]
    },
    {
      "cell_type": "code",
      "execution_count": null,
      "metadata": {
        "colab": {
          "base_uri": "https://localhost:8080/"
        },
        "id": "PhK7bmhAftVp",
        "outputId": "51a53ae1-3483-4bf9-a945-6044d0d478e1"
      },
      "outputs": [
        {
          "data": {
            "text/plain": [
              "ENSProcessResult(normalized='nàme🧙\\u200d♂1⃣.eth', beautified='nàme🧙\\u200d♂️1️⃣.eth', tokens=[TokenMapped(cp=78, cps=[110], type='mapped'), TokenValid(cps=[224, 109, 101], type='valid'), TokenEmoji(emoji=[129497, 8205, 9794, 65039], input=[129497, 8205, 9794, 65039], cps=[129497, 8205, 9794], type='emoji'), TokenEmoji(emoji=[49, 65039, 8419], input=[49, 8419], cps=[49, 8419], type='emoji'), TokenStop(cp=46, type='stop'), TokenValid(cps=[101, 116, 104], type='valid')], cured='nàme🧙\\u200d♂1⃣.eth', cures=[], error=None, transformations=[NormalizationTransformation(code=\"MAPPED\", index=0, disallowed=\"N\", suggested=\"n\"), NormalizationTransformation(code=\"FE0F\", index=4, disallowed=\"🧙‍♂️\", suggested=\"🧙‍♂\")])"
            ]
          },
          "execution_count": 11,
          "metadata": {},
          "output_type": "execute_result"
        }
      ],
      "source": [
        "from ens_normalize import ens_process\n",
        "# use only the do_* flags you need\n",
        "ens_process(\"Nàme🧙‍♂️1⃣.eth\",\n",
        "    do_normalize=True,\n",
        "    do_beautify=True,\n",
        "    do_tokenize=True,\n",
        "    do_transformations=True,\n",
        "    do_cure=True,\n",
        ")\n",
        "# ENSProcessResult(\n",
        "#   normalized='nàme🧙\\u200d♂1⃣.eth',\n",
        "#   beautified='nàme🧙\\u200d♂️1️⃣.eth',\n",
        "#   tokens=[...],\n",
        "#   cured='nàme🧙\\u200d♂1⃣.eth',\n",
        "#   cures=[], # This is the list of cures that were applied to the input (in this case, none).\n",
        "#   error=None, # This is the exception raised by ens_normalize().\n",
        "#               # It is a DisallowedNameError or CurableError if the error is curable.\n",
        "#   transformations=[\n",
        "#     NormalizationTransformation(code=\"MAPPED\", index=0, disallowed=\"N\", suggested=\"n\"),\n",
        "#     NormalizationTransformation(code=\"FE0F\", index=4, disallowed=\"🧙‍♂️\", suggested=\"🧙‍♂\")\n",
        "#   ])"
      ]
    }
  ],
  "metadata": {
    "colab": {
      "provenance": [],
      "toc_visible": true
    },
    "kernelspec": {
      "display_name": "Python 3",
      "name": "python3"
    },
    "language_info": {
      "name": "python"
    }
  },
  "nbformat": 4,
  "nbformat_minor": 0
}
